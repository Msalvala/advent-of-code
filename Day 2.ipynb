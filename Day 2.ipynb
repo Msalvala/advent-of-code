{
 "cells": [
  {
   "cell_type": "code",
   "execution_count": 73,
   "metadata": {},
   "outputs": [],
   "source": [
    "import os\n",
    "import pandas as pd\n",
    "\n",
    "data = open(os.getcwd() + '/input2.txt')\n",
    "report = []\n",
    "\n",
    "for line in data:\n",
    "    \n",
    "    report.append(line.replace('\\n', ''))\n",
    "    \n",
    "dels = [\"-\",\" \",\": \"]\n",
    "colnames = [\"lower_bound\",\"upper_bound\",\"letter\",\"password\"]\n",
    "\n",
    "data_split = []\n",
    "\n",
    "for i in range(len(report)):\n",
    "    \n",
    "    cols = []\n",
    "    \n",
    "    cell = report[i]\n",
    "    \n",
    "    for j in range(len(dels)):\n",
    "            \n",
    "        #print(cell)\n",
    "            \n",
    "        cols.append(cell.split(dels[j],1)[0])\n",
    "            \n",
    "        cell = cell.split(dels[j],1)[1]\n",
    "            \n",
    "    cols.append(cell)\n",
    "    \n",
    "    #print(cols)\n",
    "    \n",
    "    data_split.append(cols)\n",
    "    \n",
    "\n",
    "data_split = pd.DataFrame(data_split,columns = colnames)\n"
   ]
  },
  {
   "cell_type": "code",
   "execution_count": 82,
   "metadata": {},
   "outputs": [
    {
     "data": {
      "text/plain": [
       "428"
      ]
     },
     "execution_count": 82,
     "metadata": {},
     "output_type": "execute_result"
    }
   ],
   "source": [
    "data_split['invalid'] = True\n",
    "\n",
    "for i in range(len(data_split['password'])):\n",
    "    \n",
    "    password = data_split['password'][i]\n",
    "    #print(password)\n",
    "    #print(data_split['letter'][i])\n",
    "    letter_count = password.count(data_split['letter'][i]) \n",
    "    #print(letter_count)\n",
    "    upper = int(data_split['upper_bound'][i])\n",
    "    #print(upper)\n",
    "    lower = int(data_split['lower_bound'][i])  \n",
    "    #print(lower)                                               \n",
    "    if (letter_count <= upper) & (letter_count >= lower):\n",
    "                                                       \n",
    "        data_split.loc[i,'invalid'] = False\n",
    "        #print(False) \n",
    "    else:\n",
    "        \n",
    "        data_split.loc[i,'invalid'] = True\n",
    "        #print(True) \n",
    "data_split_invalid = data_split.loc[data_split['invalid']==True]\n",
    "\n",
    "data_split_invalid\n",
    "\n",
    "len(data_split_invalid['invalid'])"
   ]
  },
  {
   "cell_type": "code",
   "execution_count": null,
   "metadata": {},
   "outputs": [],
   "source": []
  }
 ],
 "metadata": {
  "kernelspec": {
   "display_name": "Python 3",
   "language": "python",
   "name": "python3"
  },
  "language_info": {
   "codemirror_mode": {
    "name": "ipython",
    "version": 3
   },
   "file_extension": ".py",
   "mimetype": "text/x-python",
   "name": "python",
   "nbconvert_exporter": "python",
   "pygments_lexer": "ipython3",
   "version": "3.8.6"
  }
 },
 "nbformat": 4,
 "nbformat_minor": 4
}
